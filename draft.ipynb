{
 "metadata": {
  "kernelspec": {
   "name": "python3",
   "display_name": "Python 3",
   "language": "python"
  },
  "language_info": {
   "name": "python",
   "version": "3.10.12",
   "mimetype": "text/x-python",
   "codemirror_mode": {
    "name": "ipython",
    "version": 3
   },
   "pygments_lexer": "ipython3",
   "nbconvert_exporter": "python",
   "file_extension": ".py"
  },
  "kaggle": {
   "accelerator": "nvidiaTeslaT4",
   "dataSources": [
    {
     "sourceId": 10959573,
     "sourceType": "datasetVersion",
     "datasetId": 6818191
    },
    {
     "sourceId": 10961718,
     "sourceType": "datasetVersion",
     "datasetId": 6819717
    },
    {
     "sourceId": 11000031,
     "sourceType": "datasetVersion",
     "datasetId": 6847592
    }
   ],
   "dockerImageVersionId": 30919,
   "isInternetEnabled": true,
   "language": "python",
   "sourceType": "notebook",
   "isGpuEnabled": true
  }
 },
 "nbformat_minor": 5,
 "nbformat": 4,
 "cells": [
  {
   "metadata": {},
   "cell_type": "code",
   "outputs": [],
   "execution_count": null,
   "source": "!pip install -U datasets evaluate",
   "id": "97b123a44bd6ab04"
  },
  {
   "id": "773ed39a-8418-4aaf-814c-bcdc421c282e",
   "cell_type": "code",
   "source": [
    "from datasets import load_dataset\n",
    "from torch.utils.data import DataLoader\n",
    "from transformers import AutoTokenizer\n",
    "import evaluate\n",
    "import math\n",
    "import matplotlib.pyplot as plt\n",
    "import torch\n",
    "from torch import nn\n",
    "import wandb\n",
    "from transformer import Transformer\n",
    "import pandas as pd\n",
    "import csv"
   ],
   "metadata": {
    "ExecuteTime": {
     "end_time": "2025-03-11T13:46:15.811896Z",
     "start_time": "2025-03-11T13:46:09.282850Z"
    },
    "trusted": true,
    "execution": {
     "iopub.status.busy": "2025-03-12T04:56:52.798289Z",
     "iopub.execute_input": "2025-03-12T04:56:52.798630Z",
     "iopub.status.idle": "2025-03-12T04:56:52.802422Z",
     "shell.execute_reply.started": "2025-03-12T04:56:52.798603Z",
     "shell.execute_reply": "2025-03-12T04:56:52.801428Z"
    }
   },
   "outputs": [],
   "execution_count": 41
  },
  {
   "id": "f033568f-88f6-40c0-a909-0d4f406faa44",
   "cell_type": "code",
   "source": "FILE_PATH = \"../input/dataset-for-translate\"",
   "metadata": {
    "trusted": true,
    "execution": {
     "iopub.status.busy": "2025-03-12T04:56:52.969675Z",
     "iopub.execute_input": "2025-03-12T04:56:52.969913Z",
     "iopub.status.idle": "2025-03-12T04:56:52.973652Z",
     "shell.execute_reply.started": "2025-03-12T04:56:52.969892Z",
     "shell.execute_reply": "2025-03-12T04:56:52.972880Z"
    }
   },
   "outputs": [],
   "execution_count": 43
  },
  {
   "id": "ed3af085-f3a5-4153-9305-ef03656e5f3c",
   "cell_type": "code",
   "source": [
    "data_files = {'train': f'{FILE_PATH}/multi30k_train.csv', 'test': F'{FILE_PATH}/multi30k_test.csv'}\n",
    "dataset = load_dataset('csv', data_files=data_files)\n",
    "dataset"
   ],
   "metadata": {
    "ExecuteTime": {
     "end_time": "2025-03-11T13:46:42.603757Z",
     "start_time": "2025-03-11T13:46:37.140594Z"
    },
    "trusted": true,
    "execution": {
     "iopub.status.busy": "2025-03-12T04:56:56.548094Z",
     "iopub.execute_input": "2025-03-12T04:56:56.548413Z",
     "iopub.status.idle": "2025-03-12T04:56:56.680180Z",
     "shell.execute_reply.started": "2025-03-12T04:56:56.548389Z",
     "shell.execute_reply": "2025-03-12T04:56:56.679492Z"
    }
   },
   "outputs": [
    {
     "execution_count": 45,
     "output_type": "execute_result",
     "data": {
      "text/plain": "DatasetDict({\n    train: Dataset({\n        features: ['en', 'de'],\n        num_rows: 29000\n    })\n    test: Dataset({\n        features: ['en', 'de'],\n        num_rows: 1000\n    })\n})"
     },
     "metadata": {}
    }
   ],
   "execution_count": 45
  },
  {
   "id": "3e7b0106-b2aa-4c47-ac98-a2f6d391bf7c",
   "cell_type": "code",
   "source": "len(dataset[\"train\"]) // 500",
   "metadata": {
    "trusted": true,
    "execution": {
     "iopub.status.busy": "2025-03-12T04:56:56.680972Z",
     "iopub.execute_input": "2025-03-12T04:56:56.681283Z",
     "iopub.status.idle": "2025-03-12T04:56:56.686611Z",
     "shell.execute_reply.started": "2025-03-12T04:56:56.681242Z",
     "shell.execute_reply": "2025-03-12T04:56:56.685721Z"
    }
   },
   "outputs": [
    {
     "execution_count": 46,
     "output_type": "execute_result",
     "data": {
      "text/plain": "58"
     },
     "metadata": {}
    }
   ],
   "execution_count": 46
  },
  {
   "id": "25e4af9b-46b4-488e-bd4c-82972084e8a2",
   "cell_type": "code",
   "source": [
    "train_loader = DataLoader(dataset['train'], shuffle=True, batch_size=64)\n",
    "test_loader = DataLoader(dataset['test'], shuffle=False, batch_size=64)"
   ],
   "metadata": {
    "ExecuteTime": {
     "end_time": "2025-03-11T13:46:42.679690Z",
     "start_time": "2025-03-11T13:46:42.654821Z"
    },
    "trusted": true,
    "execution": {
     "iopub.status.busy": "2025-03-12T04:56:56.687535Z",
     "iopub.execute_input": "2025-03-12T04:56:56.688163Z",
     "iopub.status.idle": "2025-03-12T04:56:56.698966Z",
     "shell.execute_reply.started": "2025-03-12T04:56:56.688130Z",
     "shell.execute_reply": "2025-03-12T04:56:56.698349Z"
    }
   },
   "outputs": [],
   "execution_count": 47
  },
  {
   "id": "bc36174e-a742-437b-a716-3540fdf48f28",
   "cell_type": "code",
   "source": "SRC_NAME = 'de'\nTRG_NAME = 'en'\nMAX_LENGTH = 64",
   "metadata": {
    "ExecuteTime": {
     "end_time": "2025-03-11T13:46:42.713002Z",
     "start_time": "2025-03-11T13:46:42.701968Z"
    },
    "trusted": true,
    "execution": {
     "iopub.status.busy": "2025-03-12T04:56:56.699659Z",
     "iopub.execute_input": "2025-03-12T04:56:56.699954Z",
     "iopub.status.idle": "2025-03-12T04:56:56.710802Z",
     "shell.execute_reply.started": "2025-03-12T04:56:56.699933Z",
     "shell.execute_reply": "2025-03-12T04:56:56.709934Z"
    }
   },
   "outputs": [],
   "execution_count": 48
  },
  {
   "id": "e359ec76-9a28-4071-a4be-7f55211e2c30",
   "cell_type": "code",
   "source": [
    "tokenizers = {\n",
    "    'en': AutoTokenizer.from_pretrained('bert-base-uncased'),\n",
    "    'de': AutoTokenizer.from_pretrained('dbmdz/bert-base-german-uncased')\n",
    "}"
   ],
   "metadata": {
    "ExecuteTime": {
     "end_time": "2025-03-11T13:46:46.274966Z",
     "start_time": "2025-03-11T13:46:42.734116Z"
    },
    "trusted": true,
    "execution": {
     "iopub.status.busy": "2025-03-12T04:56:56.713849Z",
     "iopub.execute_input": "2025-03-12T04:56:56.714040Z",
     "iopub.status.idle": "2025-03-12T04:56:56.981253Z",
     "shell.execute_reply.started": "2025-03-12T04:56:56.714023Z",
     "shell.execute_reply": "2025-03-12T04:56:56.980398Z"
    }
   },
   "outputs": [],
   "execution_count": 49
  },
  {
   "id": "8f5d0d11f7c5e6c1",
   "cell_type": "code",
   "source": "# transformer = Transformer(\n#     encoder_vocab_size=tokenizers[\"en\"].vocab_size, decoder_vocab_size=tokenizers[\"de\"].vocab_size, hidden_size=64 * 6, n_head=6,\n#     intermediate_size=256, encoder_max_len=512, decoder_max_len=512, n_layers=2, drop_prob=0.3\n# )",
   "metadata": {
    "ExecuteTime": {
     "end_time": "2025-03-11T13:46:46.355783Z",
     "start_time": "2025-03-11T13:46:46.337769Z"
    },
    "trusted": true,
    "execution": {
     "iopub.status.busy": "2025-03-12T04:56:56.982709Z",
     "iopub.execute_input": "2025-03-12T04:56:56.983017Z",
     "iopub.status.idle": "2025-03-12T04:56:56.986520Z",
     "shell.execute_reply.started": "2025-03-12T04:56:56.982993Z",
     "shell.execute_reply": "2025-03-12T04:56:56.985630Z"
    }
   },
   "outputs": [],
   "execution_count": 50
  },
  {
   "id": "ce55fbbbfc43a000",
   "cell_type": "code",
   "source": "# src_input_ids = torch.randint(0, 4, size=(10, 4))\n# src_attention_mask = torch.randint(0, 2, size=(10, 4))\n# \n# trg_input_ids = torch.randint(0, 8, size=(10, 3))\n# trg_attention_mask = torch.randint(0, 2, size=(10, 3))\n# \n# output_shape = transformer(src_input_ids, trg_input_ids, src_attention_mask, trg_attention_mask).shape\n# print(output_shape)\n# assert output_shape == (10, 3, 8)\n# \n# print('Вроде все работает.')",
   "metadata": {
    "ExecuteTime": {
     "end_time": "2025-03-11T13:46:46.384348Z",
     "start_time": "2025-03-11T13:46:46.368773Z"
    },
    "trusted": true,
    "execution": {
     "iopub.status.busy": "2025-03-12T04:56:56.987430Z",
     "iopub.execute_input": "2025-03-12T04:56:56.987741Z",
     "iopub.status.idle": "2025-03-12T04:56:57.001021Z",
     "shell.execute_reply.started": "2025-03-12T04:56:56.987712Z",
     "shell.execute_reply": "2025-03-12T04:56:57.000395Z"
    }
   },
   "outputs": [],
   "execution_count": 51
  },
  {
   "id": "0f01801c-cfe0-4437-a72a-e1c40e6aae41",
   "cell_type": "code",
   "source": "bleu_score = evaluate.load('bleu')",
   "metadata": {
    "ExecuteTime": {
     "end_time": "2025-03-11T13:47:07.831581Z",
     "start_time": "2025-03-11T13:46:46.406452Z"
    },
    "trusted": true,
    "execution": {
     "iopub.status.busy": "2025-03-12T04:57:00.511621Z",
     "iopub.execute_input": "2025-03-12T04:57:00.512003Z",
     "iopub.status.idle": "2025-03-12T04:57:01.148801Z",
     "shell.execute_reply.started": "2025-03-12T04:57:00.511966Z",
     "shell.execute_reply": "2025-03-12T04:57:01.147923Z"
    }
   },
   "outputs": [],
   "execution_count": 53
  },
  {
   "id": "a4b5e38d-71c8-4ec4-9282-0c59af869d36",
   "cell_type": "code",
   "source": [
    "class ExponentialMovingAverage:\n",
    "    def __init__(self, parameters, decay=0.999):\n",
    "        super().__init__()\n",
    "\n",
    "        self.decay = decay\n",
    "        self.parameters = [p.clone().detach() for p in parameters if p.requires_grad]\n",
    "\n",
    "    @torch.no_grad()\n",
    "    def update(self, parameters):\n",
    "        parameters = [p for p in parameters if p.requires_grad]\n",
    "        for s_param, param in zip(self.parameters, parameters):\n",
    "            s_param.sub_((1.0 - self.decay) * (s_param - param))\n",
    "\n",
    "    def state_dict(self) -> dict:\n",
    "        return {'parameters': self.parameters}\n",
    "    \n",
    "    @torch.no_grad()\n",
    "    def copy_to(self, parameters):\n",
    "        parameters = [p for p in parameters if p.requires_grad]\n",
    "        for s_param, param in zip(self.parameters, parameters):\n",
    "            param.data.copy_(s_param.data)"
   ],
   "metadata": {
    "ExecuteTime": {
     "end_time": "2025-03-11T13:47:07.872937Z",
     "start_time": "2025-03-11T13:47:07.858148Z"
    },
    "trusted": true,
    "execution": {
     "iopub.status.busy": "2025-03-12T04:57:01.149856Z",
     "iopub.execute_input": "2025-03-12T04:57:01.150157Z",
     "iopub.status.idle": "2025-03-12T04:57:01.156844Z",
     "shell.execute_reply.started": "2025-03-12T04:57:01.150121Z",
     "shell.execute_reply": "2025-03-12T04:57:01.155853Z"
    }
   },
   "outputs": [],
   "execution_count": 54
  },
  {
   "id": "f3ea877d-36c4-4973-a57b-b670522026ef",
   "cell_type": "code",
   "source": [
    "class WarmupCosineScheduler:\n",
    "    def __init__(self, optimizer, warmup_steps=2000, max_training_steps=40000, min_lr=1e-6):        \n",
    "        self.optimizer = optimizer\n",
    "        self.warmup_steps = warmup_steps\n",
    "        self.max_training_steps = max_training_steps\n",
    "        self.min_lr = min_lr\n",
    "        \n",
    "        self.current_step = 0\n",
    "        self.max_lr = optimizer.param_groups[0]['lr']\n",
    "\n",
    "    def step(self):\n",
    "        self.current_step += 1\n",
    "        \n",
    "        if self.current_step <= self.warmup_steps:\n",
    "            lr = self.min_lr * (1 - self.current_step / self.warmup_steps) + self.max_lr * (self.current_step / self.warmup_steps)\n",
    "        else:\n",
    "            lr = self.min_lr + 0.5 * (self.max_lr - self.min_lr) * (1 + math.cos(math.pi * (self.current_step - self.warmup_steps) / (self.max_training_steps - self.warmup_steps)))\n",
    "        \n",
    "        for param_group in self.optimizer.param_groups:\n",
    "            param_group['lr'] = lr\n",
    "\n",
    "    def get_lr(self):\n",
    "        return self.optimizer.param_groups[0]['lr']"
   ],
   "metadata": {
    "ExecuteTime": {
     "end_time": "2025-03-11T13:47:07.912470Z",
     "start_time": "2025-03-11T13:47:07.896302Z"
    },
    "trusted": true,
    "execution": {
     "iopub.status.busy": "2025-03-12T04:57:01.157897Z",
     "iopub.execute_input": "2025-03-12T04:57:01.158224Z",
     "iopub.status.idle": "2025-03-12T04:57:01.173066Z",
     "shell.execute_reply.started": "2025-03-12T04:57:01.158185Z",
     "shell.execute_reply": "2025-03-12T04:57:01.172319Z"
    }
   },
   "outputs": [],
   "execution_count": 55
  },
  {
   "id": "a8f5d335",
   "cell_type": "code",
   "source": [
    "dummy_model = nn.Linear(1, 1)\n",
    "optimizer = torch.optim.Adam(dummy_model.parameters(), lr=2e-4)\n",
    "scheduler = WarmupCosineScheduler(optimizer, warmup_steps=5000, max_training_steps=40000, min_lr=1e-6)\n",
    "\n",
    "lrs = []\n",
    "for i in range(40000):\n",
    "    optimizer.step()\n",
    "    scheduler.step()\n",
    "    lrs.append(scheduler.get_lr())\n",
    "\n",
    "plt.figure(figsize=(7, 3))\n",
    "plt.plot(lrs)\n",
    "plt.xlabel('Step', size=14)\n",
    "plt.ylabel('Learning rate', size=14)"
   ],
   "metadata": {
    "ExecuteTime": {
     "end_time": "2025-03-11T13:47:11.625600Z",
     "start_time": "2025-03-11T13:47:07.941721Z"
    },
    "trusted": true,
    "execution": {
     "iopub.status.busy": "2025-03-12T04:57:01.173771Z",
     "iopub.execute_input": "2025-03-12T04:57:01.174034Z",
     "iopub.status.idle": "2025-03-12T04:57:03.153827Z",
     "shell.execute_reply.started": "2025-03-12T04:57:01.174013Z",
     "shell.execute_reply": "2025-03-12T04:57:03.153102Z"
    }
   },
   "outputs": [
    {
     "execution_count": 56,
     "output_type": "execute_result",
     "data": {
      "text/plain": "Text(0, 0.5, 'Learning rate')"
     },
     "metadata": {}
    },
    {
     "output_type": "display_data",
     "data": {
      "text/plain": "<Figure size 700x300 with 1 Axes>",
      "image/png": "[encoded data removed]"
     },
     "metadata": {}
    }
   ],
   "execution_count": 56
  },
  {
   "id": "af95cd2d4370b267",
   "cell_type": "code",
   "source": "a = next(iter(test_loader))[\"en\"][0]\nb = tokenizers['en'](a, padding=\"max_length\", max_length=32, truncation=True)\n# tokenizers[\"en\"].decode(b[\"input_ids\"])\nb",
   "metadata": {
    "ExecuteTime": {
     "end_time": "2025-03-11T13:47:11.691806Z",
     "start_time": "2025-03-11T13:47:11.675875Z"
    },
    "trusted": true,
    "execution": {
     "iopub.status.busy": "2025-03-12T04:57:03.154829Z",
     "iopub.execute_input": "2025-03-12T04:57:03.155171Z",
     "iopub.status.idle": "2025-03-12T04:57:03.163320Z",
     "shell.execute_reply.started": "2025-03-12T04:57:03.155136Z",
     "shell.execute_reply": "2025-03-12T04:57:03.162490Z"
    }
   },
   "outputs": [
    {
     "execution_count": 57,
     "output_type": "execute_result",
     "data": {
      "text/plain": "{'input_ids': [101, 1037, 2158, 1999, 2019, 4589, 6045, 4626, 2012, 2242, 1012, 102, 0, 0, 0, 0, 0, 0, 0, 0, 0, 0, 0, 0, 0, 0, 0, 0, 0, 0, 0, 0], 'token_type_ids': [0, 0, 0, 0, 0, 0, 0, 0, 0, 0, 0, 0, 0, 0, 0, 0, 0, 0, 0, 0, 0, 0, 0, 0, 0, 0, 0, 0, 0, 0, 0, 0], 'attention_mask': [1, 1, 1, 1, 1, 1, 1, 1, 1, 1, 1, 1, 0, 0, 0, 0, 0, 0, 0, 0, 0, 0, 0, 0, 0, 0, 0, 0, 0, 0, 0, 0]}"
     },
     "metadata": {}
    }
   ],
   "execution_count": 57
  },
  {
   "id": "f8175b2cecb53094",
   "cell_type": "code",
   "source": "a = torch.rand((10, 5, 8))\na[: , :-1, :].shape",
   "metadata": {
    "ExecuteTime": {
     "end_time": "2025-03-11T13:47:11.744550Z",
     "start_time": "2025-03-11T13:47:11.734123Z"
    },
    "trusted": true,
    "execution": {
     "iopub.status.busy": "2025-03-12T04:57:03.164166Z",
     "iopub.execute_input": "2025-03-12T04:57:03.164467Z",
     "iopub.status.idle": "2025-03-12T04:57:03.176428Z",
     "shell.execute_reply.started": "2025-03-12T04:57:03.164446Z",
     "shell.execute_reply": "2025-03-12T04:57:03.175737Z"
    }
   },
   "outputs": [
    {
     "execution_count": 58,
     "output_type": "execute_result",
     "data": {
      "text/plain": "torch.Size([10, 4, 8])"
     },
     "metadata": {}
    }
   ],
   "execution_count": 58
  },
  {
   "id": "bf0b6eb0939d852d",
   "cell_type": "code",
   "source": "tokenizers[\"en\"].pad_token_id",
   "metadata": {
    "ExecuteTime": {
     "end_time": "2025-03-11T13:47:11.808595Z",
     "start_time": "2025-03-11T13:47:11.799114Z"
    },
    "trusted": true,
    "execution": {
     "iopub.status.busy": "2025-03-12T04:57:03.177223Z",
     "iopub.execute_input": "2025-03-12T04:57:03.177499Z",
     "iopub.status.idle": "2025-03-12T04:57:03.189063Z",
     "shell.execute_reply.started": "2025-03-12T04:57:03.177470Z",
     "shell.execute_reply": "2025-03-12T04:57:03.188384Z"
    }
   },
   "outputs": [
    {
     "execution_count": 59,
     "output_type": "execute_result",
     "data": {
      "text/plain": "0"
     },
     "metadata": {}
    }
   ],
   "execution_count": 59
  },
  {
   "id": "71d127e0dea7acbd",
   "cell_type": "code",
   "source": "tokenizers[\"de\"].convert_tokens_to_ids(\"[CLS]\")",
   "metadata": {
    "ExecuteTime": {
     "end_time": "2025-03-11T13:47:15.462361Z",
     "start_time": "2025-03-11T13:47:15.454990Z"
    },
    "trusted": true,
    "execution": {
     "iopub.status.busy": "2025-03-12T04:57:03.201553Z",
     "iopub.execute_input": "2025-03-12T04:57:03.201837Z",
     "iopub.status.idle": "2025-03-12T04:57:03.213530Z",
     "shell.execute_reply.started": "2025-03-12T04:57:03.201817Z",
     "shell.execute_reply": "2025-03-12T04:57:03.212822Z"
    }
   },
   "outputs": [
    {
     "execution_count": 61,
     "output_type": "execute_result",
     "data": {
      "text/plain": "102"
     },
     "metadata": {}
    }
   ],
   "execution_count": 61
  },
  {
   "id": "7fd54d96d33772e5",
   "cell_type": "code",
   "source": "tokenizers[\"en\"].convert_ids_to_tokens(0)",
   "metadata": {
    "ExecuteTime": {
     "end_time": "2025-03-11T13:47:15.499827Z",
     "start_time": "2025-03-11T13:47:15.492494Z"
    },
    "trusted": true,
    "execution": {
     "iopub.status.busy": "2025-03-12T04:57:03.214302Z",
     "iopub.execute_input": "2025-03-12T04:57:03.214562Z",
     "iopub.status.idle": "2025-03-12T04:57:03.225444Z",
     "shell.execute_reply.started": "2025-03-12T04:57:03.214515Z",
     "shell.execute_reply": "2025-03-12T04:57:03.224751Z"
    }
   },
   "outputs": [
    {
     "execution_count": 62,
     "output_type": "execute_result",
     "data": {
      "text/plain": "'[PAD]'"
     },
     "metadata": {}
    }
   ],
   "execution_count": 62
  },
  {
   "id": "9198195b85c7a1b2",
   "cell_type": "code",
   "source": "torch.argmax(torch.tensor([torch.nan, torch.nan, torch.nan]))",
   "metadata": {
    "ExecuteTime": {
     "end_time": "2025-03-11T13:55:38.928149Z",
     "start_time": "2025-03-11T13:55:38.916840Z"
    },
    "trusted": true,
    "execution": {
     "iopub.status.busy": "2025-03-12T04:57:03.226198Z",
     "iopub.execute_input": "2025-03-12T04:57:03.226383Z",
     "iopub.status.idle": "2025-03-12T04:57:03.238329Z",
     "shell.execute_reply.started": "2025-03-12T04:57:03.226366Z",
     "shell.execute_reply": "2025-03-12T04:57:03.237522Z"
    }
   },
   "outputs": [
    {
     "execution_count": 63,
     "output_type": "execute_result",
     "data": {
      "text/plain": "tensor(0)"
     },
     "metadata": {}
    }
   ],
   "execution_count": 63
  },
  {
   "id": "aeb82962a6c05f20",
   "cell_type": "code",
   "source": [
    "def post_processing_text(texts):\n",
    "    clean_texts = []\n",
    "    for text in texts:\n",
    "        full_stop_pos = text.find(\".\")\n",
    "        if full_stop_pos  != -1:\n",
    "            text = text[:full_stop_pos+1]\n",
    "\n",
    "        clean_texts.append(text)\n",
    "        \n",
    "    return clean_texts\n",
    "\n",
    "\n",
    "def generate(model, input_data, max_len, tokenizer, device):\n",
    "    model.eval()\n",
    "    model.to(device)\n",
    "    \n",
    "    src_input_ids = input_data['input_ids'].to(device)\n",
    "    \n",
    "    batch_size = src_input_ids.size(0)\n",
    "    generated_ids = torch.full((batch_size, 1), tokenizer.convert_tokens_to_ids(\"[CLS]\"), device=device)\n",
    "    \n",
    "    with torch.no_grad():\n",
    "        for _ in range(max_len):\n",
    "            logits = model(src_input_ids=src_input_ids, trg_input_ids=generated_ids)\n",
    "            next_token_logits = logits[:, -1, :]\n",
    "            next_token_ids = next_token_logits.argmax(dim=-1, keepdim=True)\n",
    "\n",
    "            generated_ids = torch.cat([generated_ids, next_token_ids], dim=1)\n",
    "    \n",
    "    return generated_ids"
   ],
   "metadata": {
    "ExecuteTime": {
     "end_time": "2025-03-12T02:19:04.448252Z",
     "start_time": "2025-03-12T02:19:04.324051Z"
    },
    "trusted": true,
    "execution": {
     "iopub.status.busy": "2025-03-12T04:57:03.241502Z",
     "iopub.execute_input": "2025-03-12T04:57:03.241769Z",
     "iopub.status.idle": "2025-03-12T04:57:03.251099Z",
     "shell.execute_reply.started": "2025-03-12T04:57:03.241747Z",
     "shell.execute_reply": "2025-03-12T04:57:03.250301Z"
    }
   },
   "outputs": [],
   "execution_count": 64
  },
  {
   "id": "1d34a9e610a138be",
   "cell_type": "code",
   "source": "tokenizers[SRC_NAME]([\"dvbfbfrvwerverver\", \"dfafawf\"], padding=True, return_tensors=\"pt\")",
   "metadata": {
    "ExecuteTime": {
     "end_time": "2025-03-11T13:51:33.139203Z",
     "start_time": "2025-03-11T13:51:33.124177Z"
    },
    "trusted": true,
    "execution": {
     "iopub.status.busy": "2025-03-12T04:57:03.252336Z",
     "iopub.execute_input": "2025-03-12T04:57:03.252630Z",
     "iopub.status.idle": "2025-03-12T04:57:03.266166Z",
     "shell.execute_reply.started": "2025-03-12T04:57:03.252601Z",
     "shell.execute_reply": "2025-03-12T04:57:03.265417Z"
    }
   },
   "outputs": [
    {
     "execution_count": 65,
     "output_type": "execute_result",
     "data": {
      "text/plain": "{'input_ids': tensor([[  102, 20513, 14085, 14085, 19515,   357,   268,   268,   103],\n        [  102,   107,  1201,  1201, 28240,   103,     0,     0,     0]]), 'token_type_ids': tensor([[0, 0, 0, 0, 0, 0, 0, 0, 0],\n        [0, 0, 0, 0, 0, 0, 0, 0, 0]]), 'attention_mask': tensor([[1, 1, 1, 1, 1, 1, 1, 1, 1],\n        [1, 1, 1, 1, 1, 1, 0, 0, 0]])}"
     },
     "metadata": {}
    }
   ],
   "execution_count": 65
  },
  {
   "id": "253a20500a98c016",
   "cell_type": "code",
   "source": [
    "def train(model: nn.Module, optimizer, scheduler, ema_model, criterion, loader, epoch, device: str = \"cpu\"):\n",
    "    model.train()\n",
    "    model.to(device)\n",
    "    \n",
    "    for i, X in enumerate(loader):\n",
    "        X_en = tokenizers[SRC_NAME](X[SRC_NAME], padding=\"max_length\", max_length=MAX_LENGTH, truncation=True, return_tensors=\"pt\").to(device)\n",
    "        X_de = tokenizers[TRG_NAME](X[TRG_NAME], padding=\"max_length\", max_length=MAX_LENGTH, truncation=True, return_tensors=\"pt\").to(device).to(device)\n",
    "        \n",
    "        preds = model(X_en[\"input_ids\"],  X_de[\"input_ids\"])\n",
    "        \n",
    "        preds_for_loss = preds[:, :-1]\n",
    "        trg_for_loss = X_de[\"input_ids\"][:, 1:]\n",
    "        \n",
    "        loss = criterion(preds_for_loss.permute(0, 2, 1), trg_for_loss)\n",
    "        wandb.log({\"Train loss\": loss.detach().item()})\n",
    "\n",
    "        if i % 5 == 0:\n",
    "            optimizer.step()\n",
    "            if scheduler is not None:\n",
    "                scheduler.step()\n",
    "            if ema_model is not None:\n",
    "                ema_model.update(model.parameters())\n",
    "            optimizer.zero_grad()\n",
    "        \n",
    "@torch.no_grad()\n",
    "def evaluate(model: nn.Module, criterion, loader, device: str = \"cpu\"):\n",
    "    model.eval()\n",
    "    model.to(device)\n",
    "    \n",
    "    text_predictions = []\n",
    "    text_references = []\n",
    "    for i, X in enumerate(loader):\n",
    "        X_en = tokenizers[SRC_NAME](X[SRC_NAME], padding=\"max_length\", max_length=64, truncation=True, return_tensors=\"pt\").to(device)\n",
    "        X_de = tokenizers[TRG_NAME](X[TRG_NAME], padding=\"max_length\", max_length=64, truncation=True, return_tensors=\"pt\").to(device)\n",
    "        \n",
    "        preds = model(X_en[\"input_ids\"], X_de[\"input_ids\"])\n",
    "        preds_for_loss = preds[:, :-1]\n",
    "        trg_for_loss = X_de[\"input_ids\"][:, 1:]\n",
    "        loss = criterion(preds_for_loss.permute(0, 2, 1), trg_for_loss)\n",
    "        wandb.log({\"Train loss\": loss.detach().item()})\n",
    "        \n",
    "        gen_ids = generate(model=model, input_data=X_en, max_len=64, tokenizer=tokenizers[TRG_NAME], device=device)\n",
    "        text_predictions.extend(post_processing_text(tokenizers[TRG_NAME].batch_decode(gen_ids, skip_special_tokens=True)))\n",
    "        text_references.extend(tokenizers[TRG_NAME].batch_decode(X_de['input_ids'], skip_special_tokens=True))\n",
    "        \n",
    "    bleu_results = bleu_score.compute(predictions=text_predictions, references=text_references)\n",
    "    wandb.log({\"BLEU\": bleu_results[\"bleu\"]})"
   ],
   "metadata": {
    "ExecuteTime": {
     "end_time": "2025-03-12T02:21:24.359001Z",
     "start_time": "2025-03-12T02:21:24.342171Z"
    },
    "trusted": true,
    "execution": {
     "iopub.status.busy": "2025-03-12T04:57:03.267061Z",
     "iopub.execute_input": "2025-03-12T04:57:03.267351Z",
     "iopub.status.idle": "2025-03-12T04:57:03.278213Z",
     "shell.execute_reply.started": "2025-03-12T04:57:03.267321Z",
     "shell.execute_reply": "2025-03-12T04:57:03.277428Z"
    }
   },
   "outputs": [],
   "execution_count": 66
  },
  {
   "id": "0c0e0b45-dd18-48a3-b7ee-0a66929ad05c",
   "cell_type": "code",
   "source": "device = torch.device('cuda' if torch.cuda.is_available() else 'cpu')\ndevice",
   "metadata": {
    "ExecuteTime": {
     "end_time": "2025-03-12T02:21:25.521894Z",
     "start_time": "2025-03-12T02:21:25.513799Z"
    },
    "trusted": true,
    "execution": {
     "iopub.status.busy": "2025-03-12T04:57:03.278923Z",
     "iopub.execute_input": "2025-03-12T04:57:03.279136Z",
     "iopub.status.idle": "2025-03-12T04:57:03.293635Z",
     "shell.execute_reply.started": "2025-03-12T04:57:03.279110Z",
     "shell.execute_reply": "2025-03-12T04:57:03.292885Z"
    }
   },
   "outputs": [
    {
     "execution_count": 67,
     "output_type": "execute_result",
     "data": {
      "text/plain": "device(type='cuda')"
     },
     "metadata": {}
    }
   ],
   "execution_count": 67
  },
  {
   "id": "c11ca0f0-bbe5-4c3f-9f7f-7c1dea7230d5",
   "cell_type": "code",
   "source": [
    "model = Transformer(encoder_vocab_size=tokenizers[SRC_NAME].vocab_size, decoder_vocab_size=tokenizers[TRG_NAME].vocab_size, hidden_size=21 * 6, n_head=6,\n",
    "    intermediate_size=21 * 3, encoder_max_len=512, decoder_max_len=512, n_layers=6, drop_prob=0.3).to(device)\n",
    "\n",
    "N_EPOCH = 100\n",
    "\n",
    "ema_model = ExponentialMovingAverage(model.parameters(), decay=0.999)\n",
    "\n",
    "optimizer = torch.optim.Adam(model.parameters(), lr=5e-4)\n",
    "\n",
    "scheduler = WarmupCosineScheduler(optimizer, warmup_steps=250, max_training_steps=N_EPOCH * len(dataset[\"train\"]), min_lr=1e-6)\n",
    "\n",
    "loss_fn = torch.nn.CrossEntropyLoss(ignore_index=tokenizers[TRG_NAME].pad_token_id)\n",
    "\n",
    "print('Model parameters:', sum(torch.numel(p) for p in model.parameters()))"
   ],
   "metadata": {
    "ExecuteTime": {
     "end_time": "2025-03-12T02:21:26.059395Z",
     "start_time": "2025-03-12T02:21:25.822114Z"
    },
    "trusted": true,
    "execution": {
     "iopub.status.busy": "2025-03-12T04:57:03.324412Z",
     "iopub.execute_input": "2025-03-12T04:57:03.324735Z",
     "iopub.status.idle": "2025-03-12T04:57:03.496210Z",
     "shell.execute_reply.started": "2025-03-12T04:57:03.324686Z",
     "shell.execute_reply": "2025-03-12T04:57:03.495433Z"
    }
   },
   "outputs": [
    {
     "name": "stdout",
     "text": "Model parameters: 13122930\n",
     "output_type": "stream"
    }
   ],
   "execution_count": 69
  },
  {
   "id": "d72d8766-1152-45c5-968a-5e1315f6d63d",
   "cell_type": "code",
   "source": "wandb.login(key=\"d7f5d727d48aa07df7e9d741e9bbbc88ed342500\")",
   "metadata": {
    "trusted": true,
    "execution": {
     "iopub.status.busy": "2025-03-12T04:57:03.497062Z",
     "iopub.execute_input": "2025-03-12T04:57:03.497379Z",
     "iopub.status.idle": "2025-03-12T04:57:03.559990Z",
     "shell.execute_reply.started": "2025-03-12T04:57:03.497347Z",
     "shell.execute_reply": "2025-03-12T04:57:03.559086Z"
    }
   },
   "outputs": [
    {
     "name": "stderr",
     "text": "\u001B[34m\u001B[1mwandb\u001B[0m: \u001B[33mWARNING\u001B[0m If you're specifying your api key in code, ensure this code is not shared publicly.\n\u001B[34m\u001B[1mwandb\u001B[0m: \u001B[33mWARNING\u001B[0m Consider setting the WANDB_API_KEY environment variable, or running `wandb login` from the command line.\n\u001B[34m\u001B[1mwandb\u001B[0m: Appending key for api.wandb.ai to your netrc file: /root/.netrc\n",
     "output_type": "stream"
    },
    {
     "execution_count": 70,
     "output_type": "execute_result",
     "data": {
      "text/plain": "True"
     },
     "metadata": {}
    }
   ],
   "execution_count": 70
  },
  {
   "id": "19389f7f-062b-474a-bee4-e98cdcb8ee70",
   "cell_type": "code",
   "source": [
    "with wandb.init(project=\"Transformer for translate\"):\n",
    "    for e in range(N_EPOCH):\n",
    "        train(model, optimizer, scheduler, ema_model, loss_fn, train_loader, e, device)\n",
    "        evaluate(model, loss_fn, test_loader, device)"
   ],
   "metadata": {
    "ExecuteTime": {
     "end_time": "2025-03-12T02:21:42.495504Z",
     "start_time": "2025-03-12T02:21:26.344725Z"
    },
    "trusted": true,
    "execution": {
     "iopub.status.busy": "2025-03-12T04:57:03.560909Z",
     "iopub.execute_input": "2025-03-12T04:57:03.561221Z",
     "iopub.status.idle": "2025-03-12T09:57:56.214924Z",
     "shell.execute_reply.started": "2025-03-12T04:57:03.561188Z",
     "shell.execute_reply": "2025-03-12T09:57:56.213787Z"
    }
   },
   "outputs": [
    {
     "output_type": "display_data",
     "data": {
      "text/plain": "<IPython.core.display.HTML object>",
      "text/html": "Tracking run with wandb version 0.19.1"
     },
     "metadata": {}
    },
    {
     "output_type": "display_data",
     "data": {
      "text/plain": "<IPython.core.display.HTML object>",
      "text/html": "Run data is saved locally in <code>/kaggle/working/wandb/run-20250312_045703-15lz5kxu</code>"
     },
     "metadata": {}
    },
    {
     "output_type": "display_data",
     "data": {
      "text/plain": "<IPython.core.display.HTML object>",
      "text/html": "Syncing run <strong><a href='https://wandb.ai/self-team-29/Transformer%20for%20translate/runs/15lz5kxu' target=\"_blank\">blooming-star-15</a></strong> to <a href='https://wandb.ai/self-team-29/Transformer%20for%20translate' target=\"_blank\">Weights & Biases</a> (<a href='https://wandb.me/developer-guide' target=\"_blank\">docs</a>)<br>"
     },
     "metadata": {}
    },
    {
     "output_type": "display_data",
     "data": {
      "text/plain": "<IPython.core.display.HTML object>",
      "text/html": " View project at <a href='https://wandb.ai/self-team-29/Transformer%20for%20translate' target=\"_blank\">https://wandb.ai/self-team-29/Transformer%20for%20translate</a>"
     },
     "metadata": {}
    },
    {
     "output_type": "display_data",
     "data": {
      "text/plain": "<IPython.core.display.HTML object>",
      "text/html": " View run at <a href='https://wandb.ai/self-team-29/Transformer%20for%20translate/runs/15lz5kxu' target=\"_blank\">https://wandb.ai/self-team-29/Transformer%20for%20translate/runs/15lz5kxu</a>"
     },
     "metadata": {}
    },
    {
     "name": "stderr",
     "text": "Traceback (most recent call last):\n  File \"<ipython-input-71-638222fbb62c>\", line 3, in <cell line: 1>\n    train(model, optimizer, scheduler, ema_model, loss_fn, train_loader, e, device)\n  File \"<ipython-input-66-ac97ded620a1>\", line 29, in train\n    batch_true_preds = (torch.argmax(preds_for_loss.detach().cpu(), dim=-1) == trg_for_loss.cpu()).float()\nKeyboardInterrupt\n",
     "output_type": "stream"
    },
    {
     "output_type": "display_data",
     "data": {
      "text/plain": "<IPython.core.display.HTML object>",
      "text/html": ""
     },
     "metadata": {}
    },
    {
     "output_type": "display_data",
     "data": {
      "text/plain": "<IPython.core.display.HTML object>",
      "text/html": "<br>    <style><br>        .wandb-row {<br>            display: flex;<br>            flex-direction: row;<br>            flex-wrap: wrap;<br>            justify-content: flex-start;<br>            width: 100%;<br>        }<br>        .wandb-col {<br>            display: flex;<br>            flex-direction: column;<br>            flex-basis: 100%;<br>            flex: 1;<br>            padding: 10px;<br>        }<br>    </style><br><div class=\"wandb-row\"><div class=\"wandb-col\"><h3>Run history:</h3><br/><table class=\"wandb\"><tr><td>BLEU</td><td>▁▂▃▄▅▅▆▆▆▇▆▇▇▇▇▇▇▇▇▇██▇█████████████████</td></tr><tr><td>Train loss</td><td>████▆▅▅▄▃▃▃▃▂▃▃▂▂▂▂▂▂▂▂▂▁▂▂▁▁▁▂▅▁▂▁▁▁▁▁▁</td></tr></table><br/></div><div class=\"wandb-col\"><h3>Run summary:</h3><br/><table class=\"wandb\"><tr><td>BLEU</td><td>0.34591</td></tr><tr><td>Train loss</td><td>0.96045</td></tr></table><br/></div></div>"
     },
     "metadata": {}
    },
    {
     "output_type": "display_data",
     "data": {
      "text/plain": "<IPython.core.display.HTML object>",
      "text/html": " View run <strong style=\"color:#cdcd00\">blooming-star-15</strong> at: <a href='https://wandb.ai/self-team-29/Transformer%20for%20translate/runs/15lz5kxu' target=\"_blank\">https://wandb.ai/self-team-29/Transformer%20for%20translate/runs/15lz5kxu</a><br> View project at: <a href='https://wandb.ai/self-team-29/Transformer%20for%20translate' target=\"_blank\">https://wandb.ai/self-team-29/Transformer%20for%20translate</a><br>Synced 5 W&B file(s), 0 media file(s), 0 artifact file(s) and 0 other file(s)"
     },
     "metadata": {}
    },
    {
     "output_type": "display_data",
     "data": {
      "text/plain": "<IPython.core.display.HTML object>",
      "text/html": "Find logs at: <code>./wandb/run-20250312_045703-15lz5kxu/logs</code>"
     },
     "metadata": {}
    },
    {
     "traceback": [
      "\u001B[0;31m---------------------------------------------------------------------------\u001B[0m",
      "\u001B[0;31mKeyboardInterrupt\u001B[0m                         Traceback (most recent call last)",
      "\u001B[0;32m<ipython-input-71-638222fbb62c>\u001B[0m in \u001B[0;36m<cell line: 1>\u001B[0;34m()\u001B[0m\n\u001B[1;32m      1\u001B[0m \u001B[0;32mwith\u001B[0m \u001B[0mwandb\u001B[0m\u001B[0;34m.\u001B[0m\u001B[0minit\u001B[0m\u001B[0;34m(\u001B[0m\u001B[0mproject\u001B[0m\u001B[0;34m=\u001B[0m\u001B[0;34m\"Transformer for translate\"\u001B[0m\u001B[0;34m)\u001B[0m\u001B[0;34m:\u001B[0m\u001B[0;34m\u001B[0m\u001B[0;34m\u001B[0m\u001B[0m\n\u001B[1;32m      2\u001B[0m     \u001B[0;32mfor\u001B[0m \u001B[0me\u001B[0m \u001B[0;32min\u001B[0m \u001B[0mrange\u001B[0m\u001B[0;34m(\u001B[0m\u001B[0mN_EPOCH\u001B[0m\u001B[0;34m)\u001B[0m\u001B[0;34m:\u001B[0m\u001B[0;34m\u001B[0m\u001B[0;34m\u001B[0m\u001B[0m\n\u001B[0;32m----> 3\u001B[0;31m         \u001B[0mtrain\u001B[0m\u001B[0;34m(\u001B[0m\u001B[0mmodel\u001B[0m\u001B[0;34m,\u001B[0m \u001B[0moptimizer\u001B[0m\u001B[0;34m,\u001B[0m \u001B[0mscheduler\u001B[0m\u001B[0;34m,\u001B[0m \u001B[0mema_model\u001B[0m\u001B[0;34m,\u001B[0m \u001B[0mloss_fn\u001B[0m\u001B[0;34m,\u001B[0m \u001B[0mtrain_loader\u001B[0m\u001B[0;34m,\u001B[0m \u001B[0me\u001B[0m\u001B[0;34m,\u001B[0m \u001B[0mdevice\u001B[0m\u001B[0;34m)\u001B[0m\u001B[0;34m\u001B[0m\u001B[0;34m\u001B[0m\u001B[0m\n\u001B[0m\u001B[1;32m      4\u001B[0m         \u001B[0mevaluate\u001B[0m\u001B[0;34m(\u001B[0m\u001B[0mmodel\u001B[0m\u001B[0;34m,\u001B[0m \u001B[0mloss_fn\u001B[0m\u001B[0;34m,\u001B[0m \u001B[0mtest_loader\u001B[0m\u001B[0;34m,\u001B[0m \u001B[0mdevice\u001B[0m\u001B[0;34m)\u001B[0m\u001B[0;34m\u001B[0m\u001B[0;34m\u001B[0m\u001B[0m\n\u001B[1;32m      5\u001B[0m     \u001B[0;31m# print(e)\u001B[0m\u001B[0;34m\u001B[0m\u001B[0;34m\u001B[0m\u001B[0m\n",
      "\u001B[0;32m<ipython-input-66-ac97ded620a1>\u001B[0m in \u001B[0;36mtrain\u001B[0;34m(model, optimizer, scheduler, ema_model, criterion, loader, epoch, device)\u001B[0m\n\u001B[1;32m     27\u001B[0m             \u001B[0mema_model\u001B[0m\u001B[0;34m.\u001B[0m\u001B[0mupdate\u001B[0m\u001B[0;34m(\u001B[0m\u001B[0mmodel\u001B[0m\u001B[0;34m.\u001B[0m\u001B[0mparameters\u001B[0m\u001B[0;34m(\u001B[0m\u001B[0;34m)\u001B[0m\u001B[0;34m)\u001B[0m\u001B[0;34m\u001B[0m\u001B[0;34m\u001B[0m\u001B[0m\n\u001B[1;32m     28\u001B[0m \u001B[0;34m\u001B[0m\u001B[0m\n\u001B[0;32m---> 29\u001B[0;31m         \u001B[0mbatch_true_preds\u001B[0m \u001B[0;34m=\u001B[0m \u001B[0;34m(\u001B[0m\u001B[0mtorch\u001B[0m\u001B[0;34m.\u001B[0m\u001B[0margmax\u001B[0m\u001B[0;34m(\u001B[0m\u001B[0mpreds_for_loss\u001B[0m\u001B[0;34m.\u001B[0m\u001B[0mdetach\u001B[0m\u001B[0;34m(\u001B[0m\u001B[0;34m)\u001B[0m\u001B[0;34m.\u001B[0m\u001B[0mcpu\u001B[0m\u001B[0;34m(\u001B[0m\u001B[0;34m)\u001B[0m\u001B[0;34m,\u001B[0m \u001B[0mdim\u001B[0m\u001B[0;34m=\u001B[0m\u001B[0;34m-\u001B[0m\u001B[0;36m1\u001B[0m\u001B[0;34m)\u001B[0m \u001B[0;34m==\u001B[0m \u001B[0mtrg_for_loss\u001B[0m\u001B[0;34m.\u001B[0m\u001B[0mcpu\u001B[0m\u001B[0;34m(\u001B[0m\u001B[0;34m)\u001B[0m\u001B[0;34m)\u001B[0m\u001B[0;34m.\u001B[0m\u001B[0mfloat\u001B[0m\u001B[0;34m(\u001B[0m\u001B[0;34m)\u001B[0m\u001B[0;34m\u001B[0m\u001B[0;34m\u001B[0m\u001B[0m\n\u001B[0m\u001B[1;32m     30\u001B[0m         \u001B[0;31m# true_preds.append(batch_true_preds)\u001B[0m\u001B[0;34m\u001B[0m\u001B[0;34m\u001B[0m\u001B[0m\n\u001B[1;32m     31\u001B[0m \u001B[0;34m\u001B[0m\u001B[0m\n",
      "\u001B[0;31mKeyboardInterrupt\u001B[0m: "
     ],
     "ename": "KeyboardInterrupt",
     "evalue": "",
     "output_type": "error"
    }
   ],
   "execution_count": 71
  },
  {
   "id": "8aec226f-9d53-4e8b-b14d-7a0c2fce8aba",
   "cell_type": "code",
   "source": [
    "@torch.no_grad()\n",
    "def measure_bleu_and_save(model, input_file=f'{FILE_PATH}/multi30k_grader.csv', output_file=f'solution.tsv'):\n",
    "    model.eval()\n",
    "    text_predictions = []\n",
    "\n",
    "    data = pd.read_csv(input_file)\n",
    "\n",
    "    for index, row in data.iterrows():\n",
    "        input_text = row['de']\n",
    "        input_ids = tokenizers[SRC_NAME](input_text, return_tensors='pt', padding=\"max_length\", truncation=True, max_length=MAX_LENGTH).to(device)\n",
    "\n",
    "        gen_ids = generate(model, input_ids, MAX_LENGTH, tokenizers['de'], device=device)\n",
    "        translation = post_processing_text(tokenizers[TRG_NAME].batch_decode(gen_ids, skip_special_tokens=True))\n",
    "        text_predictions.append(translation[0])\n",
    "    with open(output_file, 'w', newline='', encoding='utf-8') as tsvfile:\n",
    "        writer = csv.writer(tsvfile, delimiter='\\t')\n",
    "        writer.writerow(['prediction'])\n",
    "        for prediction in text_predictions:\n",
    "            writer.writerow([prediction])\n",
    "\n",
    "    return text_predictions\n",
    "\n",
    "predictions = measure_bleu_and_save(model)"
   ],
   "metadata": {
    "trusted": true,
    "execution": {
     "iopub.status.busy": "2025-03-12T10:11:33.590295Z",
     "iopub.execute_input": "2025-03-12T10:11:33.590601Z",
     "iopub.status.idle": "2025-03-12T10:23:18.435935Z",
     "shell.execute_reply.started": "2025-03-12T10:11:33.590580Z",
     "shell.execute_reply": "2025-03-12T10:23:18.435144Z"
    }
   },
   "outputs": [],
   "execution_count": 73
  },
  {
   "id": "7ac91422-0c29-408d-8d7d-a842e98e9f37",
   "cell_type": "code",
   "source": "torch.save(model, \"MyTFTrans-1.0.pt\")",
   "metadata": {
    "trusted": true,
    "execution": {
     "iopub.status.busy": "2025-03-12T10:25:05.061604Z",
     "iopub.execute_input": "2025-03-12T10:25:05.062000Z",
     "iopub.status.idle": "2025-03-12T10:25:05.182748Z",
     "shell.execute_reply.started": "2025-03-12T10:25:05.061973Z",
     "shell.execute_reply": "2025-03-12T10:25:05.182022Z"
    }
   },
   "outputs": [],
   "execution_count": 74
  }
 ]
}
